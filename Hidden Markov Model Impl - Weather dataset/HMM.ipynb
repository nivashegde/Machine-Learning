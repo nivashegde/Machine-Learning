{
 "cells": [
  {
   "cell_type": "markdown",
   "metadata": {},
   "source": [
    "# Project 2: Hidden Markov Model\n",
    "\n",
    "#### Nivas Hegde, Tanya Lenora Rego  "
   ]
  },
  {
   "cell_type": "markdown",
   "metadata": {},
   "source": [
    "Method to read data - "
   ]
  },
  {
   "cell_type": "code",
   "execution_count": 8,
   "metadata": {},
   "outputs": [],
   "source": [
    "import pandas as pd\n",
    "import numpy as np\n",
    "from IPython.display import display, HTML\n",
    "\n",
    "def loadData(filename):\n",
    "    return pd.read_csv(filename, names = ['state', 'umbrella'])   \n",
    "\n"
   ]
  },
  {
   "cell_type": "markdown",
   "metadata": {},
   "source": [
    "Method to generate emission probablity - "
   ]
  },
  {
   "cell_type": "code",
   "execution_count": 9,
   "metadata": {},
   "outputs": [],
   "source": [
    "def createEmitionProbs(dataset):\n",
    "    sunny = dataset[dataset['state'].isin(['sunny'])]\n",
    "    rainy = dataset[dataset['state'].isin(['rainy'])]\n",
    "    foggy = dataset[dataset['state'].isin(['foggy'])]\n",
    "        \n",
    "    emissionMatrix = np.zeros((3, 2))\n",
    "    emissionMatrix[0,0] = len(sunny[sunny['umbrella'].isin(['yes'])]) / len(sunny)\n",
    "    emissionMatrix[0,1] = len(sunny[sunny['umbrella'].isin(['no'])]) / len(sunny)\n",
    "    emissionMatrix[1,0] = len(rainy[rainy['umbrella'].isin(['yes'])]) / len(rainy)\n",
    "    emissionMatrix[1,1] = len(rainy[rainy['umbrella'].isin(['no'])]) / len(rainy)\n",
    "    emissionMatrix[2,0] = len(foggy[foggy['umbrella'].isin(['yes'])]) / len(foggy)\n",
    "    emissionMatrix[2,1] = len(foggy[foggy['umbrella'].isin(['no'])]) / len(foggy)\n",
    "    \n",
    "    print('\\n\\nEmission matrix - ')    \n",
    "    em = pd.DataFrame(data = emissionMatrix, columns = ['yes', 'no'], index = ['sunny', 'rainy', 'foggy'])\n",
    "    display(HTML(em.to_html()))\n",
    "    return emissionMatrix\n",
    "\n"
   ]
  },
  {
   "cell_type": "markdown",
   "metadata": {},
   "source": [
    "Method to generate transistion probablity - "
   ]
  },
  {
   "cell_type": "code",
   "execution_count": 10,
   "metadata": {},
   "outputs": [],
   "source": [
    "def createTransitionProbs(dataset):\n",
    "      \n",
    "    transitionMatrixTemp = {r : { c : 0 for c in ['sunny', 'rainy', 'foggy']} for r in ['sunny', 'rainy', 'foggy']}\n",
    "    for i in range(len(dataset)-1):\n",
    "        transitionMatrixTemp[dataset['state'].iloc[i]][dataset['state'].iloc[i + 1]] += 1\n",
    "    \n",
    "    matrixState = ['sunny', 'rainy', 'foggy']\n",
    "    matrixRowSum = [0, 0, 0]\n",
    "    \n",
    "    for i in range(3):\n",
    "        matrixRowSum[i] = transitionMatrixTemp[matrixState[i]]['sunny'] + transitionMatrixTemp[matrixState[i]]['rainy'] + transitionMatrixTemp[matrixState[i]]['foggy']\n",
    "    \n",
    "    transitionMatrix = np.zeros((3, 3))\n",
    "    for i in range(3):\n",
    "        for j in range(3):\n",
    "            transitionMatrix[i, j] = transitionMatrixTemp[matrixState[i]][matrixState[j]] / matrixRowSum[i]\n",
    "\n",
    "    print('\\n\\nTransition matrix - ')\n",
    "    tr = pd.DataFrame(data = transitionMatrix, columns = ['sunny', 'rainy', 'foggy'], index = ['sunny', 'rainy', 'foggy'])\n",
    "    display(HTML(tr.to_html()))\n",
    "    \n",
    "    return transitionMatrix\n",
    "\n"
   ]
  },
  {
   "cell_type": "markdown",
   "metadata": {},
   "source": [
    "Method to calculate initial probablity - "
   ]
  },
  {
   "cell_type": "code",
   "execution_count": 11,
   "metadata": {},
   "outputs": [],
   "source": [
    "def calcInitialProb(dataset):  \n",
    "    sunnyProb = len(dataset[dataset['state'].isin(['sunny'])]) / len(dataset)\n",
    "    foggyProb = len(dataset[dataset['state'].isin(['foggy'])]) / len(dataset)\n",
    "    rainyProb = len(dataset[dataset['state'].isin(['rainy'])]) / len(dataset)   \n",
    "    return [sunnyProb, rainyProb, foggyProb]\n",
    "\n"
   ]
  },
  {
   "cell_type": "markdown",
   "metadata": {},
   "source": [
    "Method to create alpha matrix - "
   ]
  },
  {
   "cell_type": "code",
   "execution_count": 12,
   "metadata": {},
   "outputs": [],
   "source": [
    "def createAlpha(emissionMatrix, transitionMatrix, inputSequence, initialProbablity):\n",
    "    \n",
    "    np.set_printoptions(suppress=True)\n",
    "    alphaMatrix = np.zeros((11, 3))\n",
    "    \n",
    "    for i in range(len(inputSequence) + 1):             \n",
    "        if i == 0:\n",
    "            alphaMatrix[i, 0] = 1\n",
    "            continue          \n",
    "        for j in range(3):\n",
    "            for k in range(3):\n",
    "                alphaMatrix[i, j] += alphaMatrix[i-1, k] * transitionMatrix[k, j]\n",
    "            alphaMatrix[i, j] = alphaMatrix[i, j] * emissionMatrix[j, 0 if inputSequence[i-1] == 'yes' else 1]\n",
    "            \n",
    "    print('\\n\\nAlpha matrix - ')\n",
    "    ap = pd.DataFrame(data = alphaMatrix, columns = ['sunny', 'rainy', 'foggy'])\n",
    "    display(HTML(ap.to_html()))\n",
    "    print('10th row - final probablity used to calculate ω0')\n",
    "    \n",
    "    finalProb = alphaMatrix[10, 0] * initialProbablity[0] + alphaMatrix[10, 1] * initialProbablity[1] + alphaMatrix[10, 2] * initialProbablity[2]\n",
    "    print('\\n\\nFinal state probablity ω0 - ', finalProb)\n",
    "      \n",
    "    return alphaMatrix\n",
    "\n"
   ]
  },
  {
   "cell_type": "markdown",
   "metadata": {},
   "source": [
    "Method to generate sequence using alpha matrix - "
   ]
  },
  {
   "cell_type": "code",
   "execution_count": 13,
   "metadata": {},
   "outputs": [],
   "source": [
    "def runViterbi(forwardProb):\n",
    "    \n",
    "    predictedStates = [] * 10\n",
    "    for i in forwardProb:\n",
    "        if max([i[0], i[1], i[2]]) == i[0]:\n",
    "            predictedStates.append('sunny')\n",
    "        if max([i[0], i[1], i[2]]) == i[1]:\n",
    "            predictedStates.append('rainy')\n",
    "        if max([i[0], i[1], i[2]]) == i[2]:\n",
    "            predictedStates.append('foggy')\n",
    "    \n",
    "    return predictedStates"
   ]
  },
  {
   "cell_type": "markdown",
   "metadata": {},
   "source": [
    "Main function - "
   ]
  },
  {
   "cell_type": "code",
   "execution_count": 14,
   "metadata": {},
   "outputs": [
    {
     "name": "stdout",
     "output_type": "stream",
     "text": [
      "\n",
      "\n",
      "Emission matrix - \n"
     ]
    },
    {
     "data": {
      "text/html": [
       "<table border=\"1\" class=\"dataframe\">\n",
       "  <thead>\n",
       "    <tr style=\"text-align: right;\">\n",
       "      <th></th>\n",
       "      <th>yes</th>\n",
       "      <th>no</th>\n",
       "    </tr>\n",
       "  </thead>\n",
       "  <tbody>\n",
       "    <tr>\n",
       "      <th>sunny</th>\n",
       "      <td>0.085020</td>\n",
       "      <td>0.914980</td>\n",
       "    </tr>\n",
       "    <tr>\n",
       "      <th>rainy</th>\n",
       "      <td>0.812245</td>\n",
       "      <td>0.187755</td>\n",
       "    </tr>\n",
       "    <tr>\n",
       "      <th>foggy</th>\n",
       "      <td>0.302682</td>\n",
       "      <td>0.697318</td>\n",
       "    </tr>\n",
       "  </tbody>\n",
       "</table>"
      ],
      "text/plain": [
       "<IPython.core.display.HTML object>"
      ]
     },
     "metadata": {},
     "output_type": "display_data"
    },
    {
     "name": "stdout",
     "output_type": "stream",
     "text": [
      "\n",
      "\n",
      "Transition matrix - \n"
     ]
    },
    {
     "data": {
      "text/html": [
       "<table border=\"1\" class=\"dataframe\">\n",
       "  <thead>\n",
       "    <tr style=\"text-align: right;\">\n",
       "      <th></th>\n",
       "      <th>sunny</th>\n",
       "      <th>rainy</th>\n",
       "      <th>foggy</th>\n",
       "    </tr>\n",
       "  </thead>\n",
       "  <tbody>\n",
       "    <tr>\n",
       "      <th>sunny</th>\n",
       "      <td>0.795132</td>\n",
       "      <td>0.054767</td>\n",
       "      <td>0.150101</td>\n",
       "    </tr>\n",
       "    <tr>\n",
       "      <th>rainy</th>\n",
       "      <td>0.195918</td>\n",
       "      <td>0.579592</td>\n",
       "      <td>0.224490</td>\n",
       "    </tr>\n",
       "    <tr>\n",
       "      <th>foggy</th>\n",
       "      <td>0.206897</td>\n",
       "      <td>0.291188</td>\n",
       "      <td>0.501916</td>\n",
       "    </tr>\n",
       "  </tbody>\n",
       "</table>"
      ],
      "text/plain": [
       "<IPython.core.display.HTML object>"
      ]
     },
     "metadata": {},
     "output_type": "display_data"
    },
    {
     "name": "stdout",
     "output_type": "stream",
     "text": [
      "\n",
      "\n",
      "Alpha matrix - \n"
     ]
    },
    {
     "data": {
      "text/html": [
       "<table border=\"1\" class=\"dataframe\">\n",
       "  <thead>\n",
       "    <tr style=\"text-align: right;\">\n",
       "      <th></th>\n",
       "      <th>sunny</th>\n",
       "      <th>rainy</th>\n",
       "      <th>foggy</th>\n",
       "    </tr>\n",
       "  </thead>\n",
       "  <tbody>\n",
       "    <tr>\n",
       "      <th>0</th>\n",
       "      <td>1.000000</td>\n",
       "      <td>0.000000</td>\n",
       "      <td>0.000000</td>\n",
       "    </tr>\n",
       "    <tr>\n",
       "      <th>1</th>\n",
       "      <td>0.727530</td>\n",
       "      <td>0.010283</td>\n",
       "      <td>0.104668</td>\n",
       "    </tr>\n",
       "    <tr>\n",
       "      <th>2</th>\n",
       "      <td>0.550957</td>\n",
       "      <td>0.014322</td>\n",
       "      <td>0.114392</td>\n",
       "    </tr>\n",
       "    <tr>\n",
       "      <th>3</th>\n",
       "      <td>0.425060</td>\n",
       "      <td>0.013478</td>\n",
       "      <td>0.099947</td>\n",
       "    </tr>\n",
       "    <tr>\n",
       "      <th>4</th>\n",
       "      <td>0.030718</td>\n",
       "      <td>0.048892</td>\n",
       "      <td>0.035412</td>\n",
       "    </tr>\n",
       "    <tr>\n",
       "      <th>5</th>\n",
       "      <td>0.037816</td>\n",
       "      <td>0.007572</td>\n",
       "      <td>0.023263</td>\n",
       "    </tr>\n",
       "    <tr>\n",
       "      <th>6</th>\n",
       "      <td>0.033274</td>\n",
       "      <td>0.002485</td>\n",
       "      <td>0.013285</td>\n",
       "    </tr>\n",
       "    <tr>\n",
       "      <th>7</th>\n",
       "      <td>0.002524</td>\n",
       "      <td>0.005792</td>\n",
       "      <td>0.003699</td>\n",
       "    </tr>\n",
       "    <tr>\n",
       "      <th>8</th>\n",
       "      <td>0.000332</td>\n",
       "      <td>0.003714</td>\n",
       "      <td>0.001070</td>\n",
       "    </tr>\n",
       "    <tr>\n",
       "      <th>9</th>\n",
       "      <td>0.001110</td>\n",
       "      <td>0.000466</td>\n",
       "      <td>0.000991</td>\n",
       "    </tr>\n",
       "    <tr>\n",
       "      <th>10</th>\n",
       "      <td>0.000100</td>\n",
       "      <td>0.000503</td>\n",
       "      <td>0.000233</td>\n",
       "    </tr>\n",
       "  </tbody>\n",
       "</table>"
      ],
      "text/plain": [
       "<IPython.core.display.HTML object>"
      ]
     },
     "metadata": {},
     "output_type": "display_data"
    },
    {
     "name": "stdout",
     "output_type": "stream",
     "text": [
      "10th row - final probablity used to calculate ω0\n",
      "\n",
      "\n",
      "Final state probablity ω0 -  0.00023348764811321137\n",
      "\n",
      "\n",
      "Predicted states - \n",
      "['sunny', 'sunny', 'sunny', 'sunny', 'rainy', 'sunny', 'sunny', 'rainy', 'rainy', 'sunny', 'rainy']\n"
     ]
    }
   ],
   "source": [
    "def main():\n",
    "    \n",
    "    #Change project filename here - \n",
    "    dataset = loadData('Project2Data.txt')\n",
    "    \n",
    "    emissionMatrix = createEmitionProbs(dataset) \n",
    "    transitionMatrix = createTransitionProbs(dataset)\n",
    "    initialProbablity = calcInitialProb(dataset)\n",
    "     \n",
    "    #Enter sequence here\n",
    "    inputSequence = ['no', 'no', 'no', 'yes', 'no', 'no', 'yes', 'yes', 'no', 'yes']\n",
    "    \n",
    "    forwardProb = createAlpha(emissionMatrix, transitionMatrix, inputSequence, initialProbablity)\n",
    "    predictedStates = runViterbi(forwardProb)\n",
    "    \n",
    "    print('\\n\\nPredicted states - ')\n",
    "    print(predictedStates)\n",
    "      \n",
    "main()\n",
    "\n"
   ]
  }
 ],
 "metadata": {
  "kernelspec": {
   "display_name": "Python 3",
   "language": "python",
   "name": "python3"
  },
  "language_info": {
   "codemirror_mode": {
    "name": "ipython",
    "version": 3
   },
   "file_extension": ".py",
   "mimetype": "text/x-python",
   "name": "python",
   "nbconvert_exporter": "python",
   "pygments_lexer": "ipython3",
   "version": "3.7.4"
  }
 },
 "nbformat": 4,
 "nbformat_minor": 2
}
