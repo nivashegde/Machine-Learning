{
 "cells": [
  {
   "cell_type": "markdown",
   "metadata": {},
   "source": [
    "# Naive Bayes Implementation"
   ]
  },
  {
   "cell_type": "markdown",
   "metadata": {},
   "source": [
    "\n",
    "\n",
    "Function to split the data when single file is provided -"
   ]
  },
  {
   "cell_type": "code",
   "execution_count": 1,
   "metadata": {},
   "outputs": [],
   "source": [
    "import pandas as pd\n",
    "import numpy as np\n",
    "import math\n",
    "\n",
    "def splitData(filename, value):\n",
    "    dataset = pd.read_csv(filename)\n",
    "    splitval = np.random.rand(len(dataset)) < value\n",
    "    train = dataset[splitval]\n",
    "    test = dataset[~splitval]\n",
    "    return train, test\n",
    "\n"
   ]
  },
  {
   "cell_type": "markdown",
   "metadata": {},
   "source": [
    "\n",
    "\n",
    "Function to get probablity & standard deviation of column values with 0 & 1 -"
   ]
  },
  {
   "cell_type": "code",
   "execution_count": 2,
   "metadata": {},
   "outputs": [],
   "source": [
    "def getStats(train):\n",
    "    outcomeCol = train.columns[len(train.columns) - 1]\n",
    "\n",
    "    dataframeOfZero = train[train[outcomeCol].isin([0])]\n",
    "    dataframeOfOne = train[train[outcomeCol].isin([1])]\n",
    "    \n",
    "    meanOfZero = dataframeOfZero.mean(axis = 0)\n",
    "    meanOfOne = dataframeOfOne.mean(axis = 0)\n",
    "    stdOfZero = dataframeOfZero.std(axis = 0)\n",
    "    stdOfOne = dataframeOfOne.std(axis = 0)\n",
    "    probOfOne = len(dataframeOfOne)/len(train)\n",
    "    probOfZero = len(dataframeOfZero)/len(train)\n",
    "    \n",
    "    return meanOfZero, meanOfOne, stdOfZero, stdOfOne, probOfZero, probOfOne\n",
    "\n"
   ]
  },
  {
   "cell_type": "markdown",
   "metadata": {},
   "source": [
    "\n",
    "\n",
    "Calculate normal distribution liklihood -"
   ]
  },
  {
   "cell_type": "code",
   "execution_count": 3,
   "metadata": {},
   "outputs": [],
   "source": [
    "def calcProb(columnNames, row, meanOfZero, meanOfOne, stdOfZero, stdOfOne, probOfOne, probOfZero):\n",
    "    probOne = probOfOne\n",
    "    probZero = probOfZero\n",
    "    for i in range(len(columnNames) - 1):\n",
    "        probOne = probOne * normpdf(row[i], meanOfOne[i], stdOfOne[i])\n",
    "        probZero = probZero * normpdf(row[i], meanOfZero[i], stdOfZero[i])\n",
    "    return 1 if probOne > probZero else 0\n",
    "\n"
   ]
  },
  {
   "cell_type": "markdown",
   "metadata": {},
   "source": [
    "\n",
    "\n",
    "Function to calculate normal distribution -"
   ]
  },
  {
   "cell_type": "code",
   "execution_count": 4,
   "metadata": {},
   "outputs": [],
   "source": [
    "def normpdf(x, mean, std):\n",
    "    numerator = math.exp(-((x-mean)**2 / (2 * std**2 )))\n",
    "    denominator = (1 / (math.sqrt(2 * math.pi) * std))\n",
    "    return numerator * denominator\n",
    "\n"
   ]
  },
  {
   "cell_type": "markdown",
   "metadata": {},
   "source": [
    "\n",
    "\n",
    "Computing consufion matrix -"
   ]
  },
  {
   "cell_type": "code",
   "execution_count": 5,
   "metadata": {},
   "outputs": [],
   "source": [
    "def createConfusionMatrix(actual, pred):\n",
    "    size = len(np.unique(actual))\n",
    "    result = np.zeros((size, size))\n",
    "    for i in range(len(actual)):\n",
    "        result[actual[i]][pred[i]] = result[actual[i]][pred[i]] + 1\n",
    "    return result.astype(int)\n",
    "\n"
   ]
  },
  {
   "cell_type": "markdown",
   "metadata": {},
   "source": [
    "\n",
    "\n",
    "Function to calculate mertics -"
   ]
  },
  {
   "cell_type": "code",
   "execution_count": 6,
   "metadata": {},
   "outputs": [],
   "source": [
    "def calculateMetrics(confusionMatrix):\n",
    "    accuracy = np.trace(confusionMatrix) / np.sum(confusionMatrix)\n",
    "    error = np.trace(confusionMatrix[::-1]) / np.sum(confusionMatrix)\n",
    "    sensitivity = confusionMatrix[1,1] / (confusionMatrix[1,0] + confusionMatrix[1,1])\n",
    "    specificity = confusionMatrix[0,0] / (confusionMatrix[0,0] / confusionMatrix[0,1])\n",
    "    return accuracy, error, sensitivity, specificity\n",
    "\n"
   ]
  },
  {
   "cell_type": "markdown",
   "metadata": {},
   "source": [
    "\n",
    "\n",
    "Main function -\n",
    "names for columns can be added for pd.read_csv(filename, ,names=[\"Pregnancies\",\"Glucose\",\"BloodPressure\",\"SkinThickness\",\"Insulin\",\"BMI\",\"DiabetesPedigreeFunction\",\"Age\",\"Outcome\"])\n",
    "\n",
    "But, code will not run for files with different number of columns."
   ]
  },
  {
   "cell_type": "code",
   "execution_count": 7,
   "metadata": {},
   "outputs": [],
   "source": [
    "def main():\n",
    "    \n",
    "    #Splitting data\n",
    "    '''\n",
    "    fileName = 'diabetes.csv'\n",
    "    splitvalue = 0.7\n",
    "    \n",
    "    #Split data\n",
    "    train, test = splitData(fileName, splitvalue)\n",
    "    '''\n",
    "    #Read data\n",
    "    #rowList = [\"Pregnancies\",\"Glucose\",\"BloodPressure\",\"SkinThickness\",\"Insulin\",\"BMI\",\"DiabetesPedigreeFunction\",\"Age\",\"Outcome\"]\n",
    "    train = pd.read_csv('train.csv')\n",
    "    test = pd.read_csv('test.csv')\n",
    "    \n",
    "    #Get means & stdev\n",
    "    meanOfZero, meanOfOne, stdOfZero, stdOfOne, probOfZero, probOfOne = getStats(train)\n",
    "    \n",
    "    #Get predicted data\n",
    "    pred = []\n",
    "    for i, row in test.iterrows():\n",
    "        pred.append(calcProb(train.columns, row, meanOfZero, meanOfOne, stdOfZero, stdOfOne, probOfOne, probOfZero))\n",
    "    \n",
    "    #Get actual data\n",
    "    actual = test[test.columns[len(test.columns) - 1]].to_numpy().astype(int)\n",
    "    \n",
    "    #Get confusion matrix\n",
    "    confusionMatrix = createConfusionMatrix(actual, pred)\n",
    "    print(\"Confusion matrix: \")\n",
    "    print(confusionMatrix)\n",
    "    \n",
    "    #Get metrics\n",
    "    accuracy, error, sensitivity, specificity = calculateMetrics(confusionMatrix)\n",
    "    print(\"Accuracy: \", accuracy)\n",
    "    print(\"Error: \", error)\n",
    "    print(\"Sensitivity: \", sensitivity)\n",
    "    print(\"Specificity: \", specificity)\n",
    "    \n",
    "    "
   ]
  },
  {
   "cell_type": "code",
   "execution_count": 8,
   "metadata": {},
   "outputs": [
    {
     "name": "stdout",
     "output_type": "stream",
     "text": [
      "Confusion matrix: \n",
      "[[132  27]\n",
      " [ 36  58]]\n",
      "Accuracy:  0.7509881422924901\n",
      "Error:  0.2490118577075099\n",
      "Sensitivity:  0.6170212765957447\n",
      "Specificity:  26.999999999999996\n"
     ]
    }
   ],
   "source": [
    "main()"
   ]
  },
  {
   "cell_type": "markdown",
   "metadata": {},
   "source": [
    "Sample output - \n",
    "\n",
    "Confusion matrix:\n",
    "\n",
    "[[132  27]\n",
    "\n",
    " [ 36  58]]\n",
    "\n",
    "Accuracy:  0.7509881422924901\n",
    "\n",
    "Error:  0.2490118577075099\n",
    "\n",
    "Sensitivity:  0.6170212765957447\n",
    "\n",
    "Specificity:  0.8301886792452831"
   ]
  }
 ],
 "metadata": {
  "kernelspec": {
   "display_name": "Python 3",
   "language": "python",
   "name": "python3"
  },
  "language_info": {
   "codemirror_mode": {
    "name": "ipython",
    "version": 3
   },
   "file_extension": ".py",
   "mimetype": "text/x-python",
   "name": "python",
   "nbconvert_exporter": "python",
   "pygments_lexer": "ipython3",
   "version": "3.7.4"
  }
 },
 "nbformat": 4,
 "nbformat_minor": 2
}
